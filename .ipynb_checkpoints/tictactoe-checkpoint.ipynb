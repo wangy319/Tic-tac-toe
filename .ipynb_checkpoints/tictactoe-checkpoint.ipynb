{
 "cells": [
  {
   "cell_type": "code",
   "execution_count": 44,
   "metadata": {},
   "outputs": [],
   "source": [
    "from __future__ import print_function\n",
    "from collections import defaultdict\n",
    "from itertools import count\n",
    "import numpy as np\n",
    "import math\n",
    "import random \n",
    "import torch\n",
    "import torch.nn as nn\n",
    "import torch.nn.functional as F\n",
    "import torch.optim as optim\n",
    "import torch.distributions\n",
    "from torch.autograd import Variable\n",
    "import matplotlib.pyplot as plt\n"
   ]
  },
  {
   "cell_type": "code",
   "execution_count": 45,
   "metadata": {},
   "outputs": [
    {
     "data": {
      "text/plain": [
       "<torch._C.Generator at 0x10feea610>"
      ]
     },
     "execution_count": 45,
     "metadata": {},
     "output_type": "execute_result"
    }
   ],
   "source": [
    "np.random.seed(1)\n",
    "random.seed(1)\n",
    "torch.manual_seed(1)"
   ]
  },
  {
   "cell_type": "code",
   "execution_count": 46,
   "metadata": {},
   "outputs": [],
   "source": [
    "class Environment(object):\n",
    "    \"\"\"\n",
    "    The Tic-Tac-Toe Environment\n",
    "    \"\"\"\n",
    "    # possible ways to win\n",
    "    win_set = frozenset([(0,1,2), (3,4,5), (6,7,8), # horizontal\n",
    "                         (0,3,6), (1,4,7), (2,5,8), # vertical\n",
    "                         (0,4,8), (2,4,6)])         # diagonal\n",
    "    # statuses\n",
    "    STATUS_VALID_MOVE = 'valid'\n",
    "    STATUS_INVALID_MOVE = 'inv'\n",
    "    STATUS_WIN = 'win'\n",
    "    STATUS_TIE = 'tie'\n",
    "    STATUS_LOSE = 'lose'\n",
    "    STATUS_DONE = 'done'\n",
    "\n",
    "    def __init__(self):\n",
    "        self.reset()\n",
    "\n",
    "    def reset(self):\n",
    "        \"\"\"Reset the game to an empty board.\"\"\"\n",
    "        self.grid = np.array([0] * 9) # grid\n",
    "        self.turn = 1                 # whose turn it is\n",
    "        self.done = False             # whether game is done\n",
    "        return self.grid\n",
    "\n",
    "    def render(self):\n",
    "        \"\"\"Print what is on the board.\"\"\"\n",
    "        map = {0:'.', 1:'x', 2:'o'} # grid label vs how to plot\n",
    "        print(''.join(map[i] for i in self.grid[0:3]))\n",
    "        print(''.join(map[i] for i in self.grid[3:6]))\n",
    "        print(''.join(map[i] for i in self.grid[6:9]))\n",
    "        print('====')\n",
    "\n",
    "    def check_win(self):\n",
    "        \"\"\"Check if someone has won the game.\"\"\"\n",
    "        for pos in self.win_set:\n",
    "            s = set([self.grid[p] for p in pos])\n",
    "            if len(s) == 1 and (0 not in s):\n",
    "                return True\n",
    "        return False\n",
    "\n",
    "    def step(self, action):\n",
    "        \"\"\"Mark a point on position action.\"\"\"\n",
    "        assert type(action) == int and action >= 0 and action < 9\n",
    "        # done = already finished the game\n",
    "        if self.done:\n",
    "            return self.grid, self.STATUS_DONE, self.done\n",
    "        # action already have something on it\n",
    "        if self.grid[action] != 0:\n",
    "            return self.grid, self.STATUS_INVALID_MOVE, self.done\n",
    "        # play move\n",
    "        self.grid[action] = self.turn\n",
    "        if self.turn == 1:\n",
    "            self.turn = 2\n",
    "        else:\n",
    "            self.turn = 1\n",
    "        # check win\n",
    "        if self.check_win():\n",
    "            self.done = True\n",
    "            return self.grid, self.STATUS_WIN, self.done\n",
    "        # check tie\n",
    "        if all([p != 0 for p in self.grid]):\n",
    "            self.done = True\n",
    "            return self.grid, self.STATUS_TIE, self.done\n",
    "        return self.grid, self.STATUS_VALID_MOVE, self.done\n",
    "\n",
    "    def random_step(self):\n",
    "        \"\"\"Choose a random, unoccupied move on the board to play.\"\"\"\n",
    "        pos = [i for i in range(9) if self.grid[i] == 0]\n",
    "        move = random.choice(pos)\n",
    "        return self.step(move)\n",
    "\n",
    "    def play_against_random(self, action):\n",
    "        \"\"\"Play a move, and then have a random agent play the next move.\"\"\"\n",
    "        state, status, done = self.step(action)\n",
    "        if not done and self.turn == 2:\n",
    "            state, s2, done = self.random_step()\n",
    "            if done:\n",
    "                if s2 == self.STATUS_WIN:\n",
    "                    status = self.STATUS_LOSE\n",
    "                elif s2 == self.STATUS_TIE:\n",
    "                    status = self.STATUS_TIE\n",
    "                else:\n",
    "                    raise ValueError(\"???\")\n",
    "        return state, status, done"
   ]
  },
  {
   "cell_type": "markdown",
   "metadata": {},
   "source": [
    "# Part 1. Self-playing using render( ) and step( )"
   ]
  },
  {
   "cell_type": "code",
   "execution_count": 47,
   "metadata": {},
   "outputs": [
    {
     "name": "stdout",
     "output_type": "stream",
     "text": [
      "...\n",
      "...\n",
      "...\n",
      "====\n",
      "...\n",
      ".x.\n",
      "...\n",
      "====\n",
      "False\n",
      ".o.\n",
      ".x.\n",
      "...\n",
      "====\n",
      "False\n",
      ".o.\n",
      ".xx\n",
      "...\n",
      "====\n",
      "False\n",
      ".o.\n",
      "oxx\n",
      "...\n",
      "====\n",
      "False\n",
      "xo.\n",
      "oxx\n",
      "...\n",
      "====\n",
      "False\n",
      "xo.\n",
      "oxx\n",
      "...\n",
      "====\n",
      "False\n",
      "xo.\n",
      "oxx\n",
      "o..\n",
      "====\n",
      "False\n",
      "xo.\n",
      "oxx\n",
      "o.x\n",
      "====\n",
      "True\n"
     ]
    }
   ],
   "source": [
    "env = Environment()\n",
    "env.render()\n",
    "env.step(4)\n",
    "env.render()\n",
    "print(env.check_win())\n",
    "env.step(1)\n",
    "env.render()\n",
    "print(env.check_win())\n",
    "env.step(5)\n",
    "env.render()\n",
    "print(env.check_win())\n",
    "env.step(3)\n",
    "env.render()\n",
    "print(env.check_win())\n",
    "env.step(0)\n",
    "env.render()\n",
    "print(env.check_win())\n",
    "env.step(1)\n",
    "env.render()\n",
    "print(env.check_win())\n",
    "env.step(6)\n",
    "env.render()\n",
    "print(env.check_win())\n",
    "env.step(8)\n",
    "env.render()\n",
    "print(env.check_win())"
   ]
  },
  {
   "cell_type": "markdown",
   "metadata": {},
   "source": [
    "# Part 2. Implementing Policy"
   ]
  },
  {
   "cell_type": "code",
   "execution_count": 48,
   "metadata": {},
   "outputs": [],
   "source": [
    "class Policy(nn.Module):\n",
    "    \"\"\"\n",
    "    The Tic-Tac-Toe Policy\n",
    "    \"\"\"\n",
    "    def __init__(self, input_size=27, hidden_size=64, output_size=9):\n",
    "        super(Policy, self).__init__()\n",
    "        self.fc1 = nn.Linear(27, 64)\n",
    "        self.fc2 = nn.Linear(64, 9)\n",
    "\n",
    "    def forward(self, x):\n",
    "        x = F.relu(self.fc1(x))\n",
    "        x = self.fc2(x)\n",
    "        return F.softmax(x)\n",
    "    \n"
   ]
  },
  {
   "cell_type": "code",
   "execution_count": 49,
   "metadata": {},
   "outputs": [],
   "source": [
    "def select_action(policy, state):\n",
    "    \"\"\"Samples an action from the policy at the state.\"\"\"\n",
    "    state = torch.from_numpy(state).long().unsqueeze(0)\n",
    "    state = torch.zeros(3,9).scatter_(0,state,1).view(1,27)\n",
    "    pr = policy(Variable(state))\n",
    "    m = torch.distributions.Categorical(pr)\n",
    "    action = m.sample()\n",
    "    log_prob = torch.sum(m.log_prob(action))\n",
    "    return action.data[0], log_prob\n"
   ]
  },
  {
   "cell_type": "markdown",
   "metadata": {},
   "source": [
    "# Part 3. Computing Returns"
   ]
  },
  {
   "cell_type": "code",
   "execution_count": 61,
   "metadata": {},
   "outputs": [],
   "source": [
    "def compute_returns(rewards, gamma=1.0):\n",
    "    \"\"\"\n",
    "    Compute returns for each time step, given the rewards\n",
    "      @param rewards: list of floats, where rewards[t] is the reward\n",
    "                      obtained at time step t\n",
    "      @param gamma: the discount factor\n",
    "      @returns list of floats representing the episode's returns\n",
    "          G_t = r_t + \\gamma r_{t+1} + \\gamma^2 r_{t+2} + ... \n",
    "\n",
    "    >>> compute_returns([0,0,0,1], 1.0)\n",
    "    [1.0, 1.0, 1.0, 1.0]\n",
    "    >>> compute_returns([0,0,0,1], 0.9)\n",
    "    [0.7290000000000001, 0.81, 0.9, 1.0]\n",
    "    >>> compute_returns([0,-0.5,5,0.5,-10], 0.9)\n",
    "    [-2.5965000000000003, -2.8850000000000002, -2.6500000000000004, -8.5, -10.0]\n",
    "    \"\"\"\n",
    "    discounted_rewards = []\n",
    "    for t in range(len(rewards)):\n",
    "        discounted_rewards.append(returns(rewards[t:], gamma))\n",
    "    return discounted_rewards\n",
    "\n",
    "\n",
    "def returns(rewards, gamma=1.0):\n",
    "    \"\"\"\n",
    "    returns the discounted(float) reward at time t.\n",
    "    \"\"\"\n",
    "    if len(rewards) == 1:\n",
    "        return rewards[0]\n",
    "    else:\n",
    "        return gamma * np.asarray(returns(rewards[1:], gamma)) + rewards[0]"
   ]
  },
  {
   "cell_type": "code",
   "execution_count": 52,
   "metadata": {},
   "outputs": [
    {
     "name": "stdout",
     "output_type": "stream",
     "text": [
      "[0.7290000000000001, 0.81, 0.9, 1]\n"
     ]
    }
   ],
   "source": [
    "rewards = [0,0,0,1]\n",
    "gamma=0.9\n",
    "print(compute_returns(rewards, gamma))"
   ]
  },
  {
   "cell_type": "code",
   "execution_count": 53,
   "metadata": {},
   "outputs": [
    {
     "name": "stdout",
     "output_type": "stream",
     "text": [
      "[-2.5965000000000003, -2.8850000000000002, -2.6500000000000004, -8.5, -10]\n"
     ]
    }
   ],
   "source": [
    "rewards = [0,-0.5,5,0.5,-10]\n",
    "gamma=0.9\n",
    "print(compute_returns(rewards, gamma))"
   ]
  },
  {
   "cell_type": "code",
   "execution_count": 54,
   "metadata": {},
   "outputs": [],
   "source": [
    "def finish_episode(saved_rewards, saved_logprobs, gamma=1.0):\n",
    "    \"\"\"Samples an action from the policy at the state.\"\"\"\n",
    "    np.random.seed(1)\n",
    "    random.seed(1)\n",
    "    torch.manual_seed(1)\n",
    "    policy_loss = []\n",
    "    returns = compute_returns(saved_rewards, gamma)\n",
    "    returns = torch.Tensor(returns)\n",
    "    # subtract mean and std for faster training\n",
    "    returns = (returns - returns.mean()) / (returns.std() +\n",
    "                                            np.finfo(np.float32).eps)\n",
    "    for log_prob, reward in zip(saved_logprobs, returns):\n",
    "        policy_loss.append(-log_prob * reward)\n",
    "    policy_loss = torch.cat(policy_loss).sum()\n",
    "    policy_loss.backward(retain_graph=True)\n",
    "    # note: retain_graph=True allows for multiple calls to .backward()\n",
    "    # in a single step"
   ]
  },
  {
   "cell_type": "markdown",
   "metadata": {},
   "source": [
    "# Part 4. Get rewards"
   ]
  },
  {
   "cell_type": "code",
   "execution_count": 55,
   "metadata": {},
   "outputs": [],
   "source": [
    "def get_reward(status):\n",
    "    \"\"\"Returns a numeric given an environment status.\"\"\"\n",
    "    return {\n",
    "            Environment.STATUS_VALID_MOVE  : 0, # TODO\n",
    "            Environment.STATUS_INVALID_MOVE: -1,\n",
    "            Environment.STATUS_WIN         : 2,\n",
    "            Environment.STATUS_TIE         : 0,\n",
    "            Environment.STATUS_LOSE        : -1\n",
    "    }[status]\n"
   ]
  },
  {
   "cell_type": "code",
   "execution_count": 62,
   "metadata": {},
   "outputs": [],
   "source": [
    "def train(policy, env, gamma=1.0, log_interval=1000):\n",
    "    \"\"\"Train policy gradient.\"\"\"\n",
    "    \n",
    "    np.random.seed(1)\n",
    "    random.seed(1)\n",
    "    torch.manual_seed(1)\n",
    "\n",
    "    num_episode = []\n",
    "    avg_rewards = []\n",
    "    inv_count = 0\n",
    "    \n",
    "    optimizer = optim.Adam(policy.parameters(), lr=0.001)\n",
    "    scheduler = torch.optim.lr_scheduler.StepLR(\n",
    "            optimizer, step_size=10000, gamma=0.9)\n",
    "    running_reward = 0\n",
    "\n",
    "    for i_episode in count(1):\n",
    "        if i_episode > 50001:\n",
    "            break\n",
    "        saved_rewards = []\n",
    "        saved_logprobs = []\n",
    "        state = env.reset()\n",
    "        done = False\n",
    "        while not done:\n",
    "            action, logprob = select_action(policy, state)\n",
    "            state, status, done = env.play_against_random(action)\n",
    "            if status == 'inv':\n",
    "                inv_count += 1\n",
    "            reward = get_reward(status)\n",
    "            saved_logprobs.append(logprob)\n",
    "            saved_rewards.append(reward)\n",
    "\n",
    "        R = compute_returns(saved_rewards)[0]\n",
    "        running_reward += R\n",
    "\n",
    "        finish_episode(saved_rewards, saved_logprobs, gamma)\n",
    "\n",
    "        if i_episode % log_interval == 0:\n",
    "            print('Episode {}\\tAverage return: {:.2f}'.format(\n",
    "                i_episode,\n",
    "                running_reward / log_interval))\n",
    "            print('invalid moves in the 1000 episode is:' + str(inv_count))\n",
    "            # Saving result for training curve\n",
    "            num_episode.append(i_episode)\n",
    "            avg_rewards.append(running_reward / log_interval)\n",
    "            inv_count = 0\n",
    "            running_reward = 0\n",
    "\n",
    "        if i_episode % (log_interval) == 0:\n",
    "            torch.save(policy.state_dict(),\n",
    "                       \"./train/policy-%d.pkl\" % i_episode)\n",
    "\n",
    "        if i_episode % 1 == 0: # batch_size\n",
    "            optimizer.step()\n",
    "            scheduler.step()\n",
    "            optimizer.zero_grad()\n",
    "        \n",
    "    return num_episode, avg_rewards"
   ]
  },
  {
   "cell_type": "code",
   "execution_count": 57,
   "metadata": {},
   "outputs": [],
   "source": [
    "def first_move_distr(policy, env):\n",
    "    \"\"\"Display the distribution of first moves.\"\"\"\n",
    "    state = env.reset()\n",
    "    state = torch.from_numpy(state).long().unsqueeze(0)\n",
    "    state = torch.zeros(3,9).scatter_(0,state,1).view(1,27)\n",
    "    pr = policy(Variable(state))\n",
    "    return pr.data\n",
    "\n",
    "\n",
    "def load_weights(policy, episode):\n",
    "    \"\"\"Load saved weights\"\"\"\n",
    "    weights = torch.load(\"./train/policy-%d.pkl\" % episode)\n",
    "    policy.load_state_dict(weights)"
   ]
  },
  {
   "cell_type": "markdown",
   "metadata": {},
   "source": [
    "# Part 5. Training"
   ]
  },
  {
   "cell_type": "code",
   "execution_count": 63,
   "metadata": {},
   "outputs": [
    {
     "name": "stderr",
     "output_type": "stream",
     "text": [
      "/Users/yingxue_wang/anaconda3/lib/python3.6/site-packages/ipykernel_launcher.py:13: UserWarning: Implicit dimension choice for softmax has been deprecated. Change the call to include dim=X as an argument.\n",
      "  del sys.path[0]\n"
     ]
    },
    {
     "name": "stdout",
     "output_type": "stream",
     "text": [
      "Episode 1000\tAverage return: -3.10\n",
      "invalid moves in the 1000 episode is:4050\n",
      "Episode 2000\tAverage return: -0.26\n",
      "invalid moves in the 1000 episode is:1317\n",
      "Episode 3000\tAverage return: 0.76\n",
      "invalid moves in the 1000 episode is:424\n",
      "Episode 4000\tAverage return: 0.98\n",
      "invalid moves in the 1000 episode is:208\n",
      "Episode 5000\tAverage return: 1.10\n",
      "invalid moves in the 1000 episode is:107\n",
      "Episode 6000\tAverage return: 1.27\n",
      "invalid moves in the 1000 episode is:58\n",
      "Episode 7000\tAverage return: 1.34\n",
      "invalid moves in the 1000 episode is:40\n",
      "Episode 8000\tAverage return: 1.38\n",
      "invalid moves in the 1000 episode is:18\n",
      "Episode 9000\tAverage return: 1.51\n",
      "invalid moves in the 1000 episode is:24\n",
      "Episode 10000\tAverage return: 1.53\n",
      "invalid moves in the 1000 episode is:21\n",
      "Episode 11000\tAverage return: 1.58\n",
      "invalid moves in the 1000 episode is:11\n",
      "Episode 12000\tAverage return: 1.34\n",
      "invalid moves in the 1000 episode is:15\n",
      "Episode 13000\tAverage return: 1.46\n",
      "invalid moves in the 1000 episode is:9\n",
      "Episode 14000\tAverage return: 1.43\n",
      "invalid moves in the 1000 episode is:9\n",
      "Episode 15000\tAverage return: 1.49\n",
      "invalid moves in the 1000 episode is:6\n",
      "Episode 16000\tAverage return: 1.35\n",
      "invalid moves in the 1000 episode is:13\n",
      "Episode 17000\tAverage return: 1.48\n",
      "invalid moves in the 1000 episode is:6\n",
      "Episode 18000\tAverage return: 1.38\n",
      "invalid moves in the 1000 episode is:10\n",
      "Episode 19000\tAverage return: 1.28\n",
      "invalid moves in the 1000 episode is:2\n",
      "Episode 20000\tAverage return: 1.28\n",
      "invalid moves in the 1000 episode is:9\n",
      "Episode 21000\tAverage return: 1.24\n",
      "invalid moves in the 1000 episode is:7\n",
      "Episode 22000\tAverage return: 1.46\n",
      "invalid moves in the 1000 episode is:7\n",
      "Episode 23000\tAverage return: 1.48\n",
      "invalid moves in the 1000 episode is:2\n",
      "Episode 24000\tAverage return: 1.37\n",
      "invalid moves in the 1000 episode is:7\n",
      "Episode 25000\tAverage return: 1.17\n",
      "invalid moves in the 1000 episode is:0\n",
      "Episode 26000\tAverage return: 1.41\n",
      "invalid moves in the 1000 episode is:3\n",
      "Episode 27000\tAverage return: 1.39\n",
      "invalid moves in the 1000 episode is:2\n",
      "Episode 28000\tAverage return: 1.47\n",
      "invalid moves in the 1000 episode is:3\n",
      "Episode 29000\tAverage return: 1.39\n",
      "invalid moves in the 1000 episode is:1\n",
      "Episode 30000\tAverage return: 1.11\n",
      "invalid moves in the 1000 episode is:4\n",
      "Episode 31000\tAverage return: 1.41\n",
      "invalid moves in the 1000 episode is:2\n",
      "Episode 32000\tAverage return: 1.44\n",
      "invalid moves in the 1000 episode is:1\n",
      "Episode 33000\tAverage return: 1.43\n",
      "invalid moves in the 1000 episode is:2\n",
      "Episode 34000\tAverage return: 1.42\n",
      "invalid moves in the 1000 episode is:0\n",
      "Episode 35000\tAverage return: 1.35\n",
      "invalid moves in the 1000 episode is:0\n",
      "Episode 36000\tAverage return: 1.37\n",
      "invalid moves in the 1000 episode is:5\n",
      "Episode 37000\tAverage return: 1.31\n",
      "invalid moves in the 1000 episode is:5\n",
      "Episode 38000\tAverage return: 1.35\n",
      "invalid moves in the 1000 episode is:1\n",
      "Episode 39000\tAverage return: 1.32\n",
      "invalid moves in the 1000 episode is:0\n",
      "Episode 40000\tAverage return: 1.29\n",
      "invalid moves in the 1000 episode is:3\n",
      "Episode 41000\tAverage return: 1.21\n",
      "invalid moves in the 1000 episode is:2\n",
      "Episode 42000\tAverage return: 1.32\n",
      "invalid moves in the 1000 episode is:3\n",
      "Episode 43000\tAverage return: 1.44\n",
      "invalid moves in the 1000 episode is:2\n",
      "Episode 44000\tAverage return: 1.35\n",
      "invalid moves in the 1000 episode is:0\n",
      "Episode 45000\tAverage return: 1.40\n",
      "invalid moves in the 1000 episode is:1\n",
      "Episode 46000\tAverage return: 1.43\n",
      "invalid moves in the 1000 episode is:0\n",
      "Episode 47000\tAverage return: 1.43\n",
      "invalid moves in the 1000 episode is:0\n",
      "Episode 48000\tAverage return: 1.40\n",
      "invalid moves in the 1000 episode is:0\n",
      "Episode 49000\tAverage return: 1.45\n",
      "invalid moves in the 1000 episode is:0\n",
      "Episode 50000\tAverage return: 1.33\n",
      "invalid moves in the 1000 episode is:1\n"
     ]
    }
   ],
   "source": [
    "np.random.seed(1)\n",
    "random.seed(1)\n",
    "torch.manual_seed(1)\n",
    "\n",
    "policy = Policy()\n",
    "env = Environment()\n",
    "num_episode, avg_rewards = train(policy, env)"
   ]
  },
  {
   "cell_type": "code",
   "execution_count": 64,
   "metadata": {},
   "outputs": [
    {
     "name": "stderr",
     "output_type": "stream",
     "text": [
      "/Users/yingxue_wang/anaconda3/lib/python3.6/site-packages/ipykernel_launcher.py:13: UserWarning: Implicit dimension choice for softmax has been deprecated. Change the call to include dim=X as an argument.\n",
      "  del sys.path[0]\n"
     ]
    },
    {
     "name": "stdout",
     "output_type": "stream",
     "text": [
      "Episode 1000\tAverage return: -3.10\n",
      "invalid moves in the 1000 episode is:4050\n",
      "Episode 2000\tAverage return: -0.26\n",
      "invalid moves in the 1000 episode is:1317\n",
      "Episode 3000\tAverage return: 0.76\n",
      "invalid moves in the 1000 episode is:424\n",
      "Episode 4000\tAverage return: 0.98\n",
      "invalid moves in the 1000 episode is:208\n",
      "Episode 5000\tAverage return: 1.10\n",
      "invalid moves in the 1000 episode is:107\n",
      "Episode 6000\tAverage return: 1.27\n",
      "invalid moves in the 1000 episode is:58\n",
      "Episode 7000\tAverage return: 1.34\n",
      "invalid moves in the 1000 episode is:40\n",
      "Episode 8000\tAverage return: 1.38\n",
      "invalid moves in the 1000 episode is:18\n",
      "Episode 9000\tAverage return: 1.51\n",
      "invalid moves in the 1000 episode is:24\n",
      "Episode 10000\tAverage return: 1.53\n",
      "invalid moves in the 1000 episode is:21\n",
      "Episode 11000\tAverage return: 1.58\n",
      "invalid moves in the 1000 episode is:11\n",
      "Episode 12000\tAverage return: 1.34\n",
      "invalid moves in the 1000 episode is:15\n",
      "Episode 13000\tAverage return: 1.46\n",
      "invalid moves in the 1000 episode is:9\n",
      "Episode 14000\tAverage return: 1.43\n",
      "invalid moves in the 1000 episode is:9\n",
      "Episode 15000\tAverage return: 1.49\n",
      "invalid moves in the 1000 episode is:6\n",
      "Episode 16000\tAverage return: 1.35\n",
      "invalid moves in the 1000 episode is:13\n",
      "Episode 17000\tAverage return: 1.48\n",
      "invalid moves in the 1000 episode is:6\n",
      "Episode 18000\tAverage return: 1.38\n",
      "invalid moves in the 1000 episode is:10\n",
      "Episode 19000\tAverage return: 1.28\n",
      "invalid moves in the 1000 episode is:2\n",
      "Episode 20000\tAverage return: 1.28\n",
      "invalid moves in the 1000 episode is:9\n",
      "Episode 21000\tAverage return: 1.24\n",
      "invalid moves in the 1000 episode is:7\n",
      "Episode 22000\tAverage return: 1.46\n",
      "invalid moves in the 1000 episode is:7\n",
      "Episode 23000\tAverage return: 1.48\n",
      "invalid moves in the 1000 episode is:2\n",
      "Episode 24000\tAverage return: 1.37\n",
      "invalid moves in the 1000 episode is:7\n",
      "Episode 25000\tAverage return: 1.17\n",
      "invalid moves in the 1000 episode is:0\n",
      "Episode 26000\tAverage return: 1.41\n",
      "invalid moves in the 1000 episode is:3\n",
      "Episode 27000\tAverage return: 1.39\n",
      "invalid moves in the 1000 episode is:2\n",
      "Episode 28000\tAverage return: 1.47\n",
      "invalid moves in the 1000 episode is:3\n",
      "Episode 29000\tAverage return: 1.39\n",
      "invalid moves in the 1000 episode is:1\n",
      "Episode 30000\tAverage return: 1.11\n",
      "invalid moves in the 1000 episode is:4\n",
      "Episode 31000\tAverage return: 1.41\n",
      "invalid moves in the 1000 episode is:2\n",
      "Episode 32000\tAverage return: 1.44\n",
      "invalid moves in the 1000 episode is:1\n",
      "Episode 33000\tAverage return: 1.43\n",
      "invalid moves in the 1000 episode is:2\n",
      "Episode 34000\tAverage return: 1.42\n",
      "invalid moves in the 1000 episode is:0\n",
      "Episode 35000\tAverage return: 1.35\n",
      "invalid moves in the 1000 episode is:0\n",
      "Episode 36000\tAverage return: 1.37\n",
      "invalid moves in the 1000 episode is:5\n",
      "Episode 37000\tAverage return: 1.31\n",
      "invalid moves in the 1000 episode is:5\n",
      "Episode 38000\tAverage return: 1.35\n",
      "invalid moves in the 1000 episode is:1\n",
      "Episode 39000\tAverage return: 1.32\n",
      "invalid moves in the 1000 episode is:0\n",
      "Episode 40000\tAverage return: 1.29\n",
      "invalid moves in the 1000 episode is:3\n",
      "Episode 41000\tAverage return: 1.21\n",
      "invalid moves in the 1000 episode is:2\n",
      "Episode 42000\tAverage return: 1.32\n",
      "invalid moves in the 1000 episode is:3\n",
      "Episode 43000\tAverage return: 1.44\n",
      "invalid moves in the 1000 episode is:2\n",
      "Episode 44000\tAverage return: 1.35\n",
      "invalid moves in the 1000 episode is:0\n",
      "Episode 45000\tAverage return: 1.40\n",
      "invalid moves in the 1000 episode is:1\n",
      "Episode 46000\tAverage return: 1.43\n",
      "invalid moves in the 1000 episode is:0\n",
      "Episode 47000\tAverage return: 1.43\n",
      "invalid moves in the 1000 episode is:0\n",
      "Episode 48000\tAverage return: 1.40\n",
      "invalid moves in the 1000 episode is:0\n",
      "Episode 49000\tAverage return: 1.45\n",
      "invalid moves in the 1000 episode is:0\n",
      "Episode 50000\tAverage return: 1.33\n",
      "invalid moves in the 1000 episode is:1\n"
     ]
    }
   ],
   "source": [
    "np.random.seed(1)\n",
    "random.seed(1)\n",
    "torch.manual_seed(1)\n",
    "\n",
    "policy = Policy()\n",
    "env = Environment()\n",
    "num_episode, avg_rewards = train(policy, env)"
   ]
  },
  {
   "cell_type": "markdown",
   "metadata": {},
   "source": [
    "Plotting Training Curve"
   ]
  },
  {
   "cell_type": "code",
   "execution_count": 65,
   "metadata": {},
   "outputs": [
    {
     "data": {
      "image/png": "[encoded data removed]",
      "text/plain": [
       "<matplotlib.figure.Figure at 0x1b09f6710>"
      ]
     },
     "metadata": {},
     "output_type": "display_data"
    }
   ],
   "source": [
    "plt.plot(num_episode, avg_rewards)\n",
    "# plt.legend(['Validation set', 'Training set','Test set'])\n",
    "plt.xlabel('Episode')\n",
    "plt.ylabel('Average Return')\n",
    "plt.savefig(\"./pics/training_curve.png\")\n",
    "plt.show()"
   ]
  },
  {
   "cell_type": "markdown",
   "metadata": {},
   "source": [
    "Get number of First-move Distribution"
   ]
  },
  {
   "cell_type": "code",
   "execution_count": 66,
   "metadata": {},
   "outputs": [
    {
     "name": "stdout",
     "output_type": "stream",
     "text": [
      "\n",
      "\n",
      "Columns 0 to 5 \n",
      " 1.6376e-04  7.4086e-07  3.5711e-03  1.0773e-05  3.2545e-03  4.0365e-05\n",
      "\n",
      "Columns 6 to 8 \n",
      " 9.9294e-01  1.0346e-06  1.2944e-05\n",
      "[torch.FloatTensor of size 1x9]\n",
      "\n"
     ]
    },
    {
     "name": "stderr",
     "output_type": "stream",
     "text": [
      "/Users/yingxue_wang/anaconda3/lib/python3.6/site-packages/ipykernel_launcher.py:13: UserWarning: Implicit dimension choice for softmax has been deprecated. Change the call to include dim=X as an argument.\n",
      "  del sys.path[0]\n"
     ]
    }
   ],
   "source": [
    "ep = 50000\n",
    "load_weights(policy, ep)\n",
    "print(first_move_distr(policy, env))"
   ]
  },
  {
   "cell_type": "code",
   "execution_count": 67,
   "metadata": {},
   "outputs": [
    {
     "name": "stderr",
     "output_type": "stream",
     "text": [
      "/Users/yingxue_wang/anaconda3/lib/python3.6/site-packages/ipykernel_launcher.py:13: UserWarning: Implicit dimension choice for softmax has been deprecated. Change the call to include dim=X as an argument.\n",
      "  del sys.path[0]\n"
     ]
    },
    {
     "data": {
      "image/png": "[encoded data removed]",
      "text/plain": [
       "<matplotlib.figure.Figure at 0x1b09f6898>"
      ]
     },
     "metadata": {},
     "output_type": "display_data"
    }
   ],
   "source": [
    "a = first_move_distr(policy, env)\n",
    "a = np.resize(a,(3,3))\n",
    "plt.imshow(a, cmap='hot', interpolation='nearest')\n",
    "plt.show()"
   ]
  },
  {
   "cell_type": "markdown",
   "metadata": {},
   "source": [
    "Part5(c). Playing 100 games against random "
   ]
  },
  {
   "cell_type": "code",
   "execution_count": 68,
   "metadata": {},
   "outputs": [],
   "source": [
    "def part5d_1():\n",
    "    N = 100\n",
    "    win = 0\n",
    "    lose = 0\n",
    "    tie = 0\n",
    "    policy = Policy()\n",
    "    env = Environment()\n",
    "    ep = 50000\n",
    "    load_weights(policy, ep)\n",
    "\n",
    "    for i in range(N):\n",
    "        state = env.reset()\n",
    "        done = False\n",
    "        while not done:\n",
    "            action, log_prob = select_action(policy, state)\n",
    "            state, status, done = env.play_against_random(action)\n",
    "        if(status == 'win'):\n",
    "            win += 1\n",
    "        elif(status == 'lose'):\n",
    "            lose += 1\n",
    "        else:\n",
    "            tie += 1\n",
    "            \n",
    "    print('The agent wins %d times'%win)\n",
    "    print('loses %d times'%lose)\n",
    "    print('ties %d times'%tie)\n",
    "    \n",
    "    return win, lose, tie\n"
   ]
  },
  {
   "cell_type": "code",
   "execution_count": 69,
   "metadata": {},
   "outputs": [
    {
     "name": "stdout",
     "output_type": "stream",
     "text": [
      "The agent wins 76 times\n",
      "loses 12 times\n",
      "ties 12 times\n"
     ]
    },
    {
     "name": "stderr",
     "output_type": "stream",
     "text": [
      "/Users/yingxue_wang/anaconda3/lib/python3.6/site-packages/ipykernel_launcher.py:13: UserWarning: Implicit dimension choice for softmax has been deprecated. Change the call to include dim=X as an argument.\n",
      "  del sys.path[0]\n"
     ]
    }
   ],
   "source": [
    "win, lose, tie = part5d_1()"
   ]
  },
  {
   "cell_type": "markdown",
   "metadata": {},
   "source": [
    "Displaying 5 games the agent playing against random"
   ]
  },
  {
   "cell_type": "code",
   "execution_count": 70,
   "metadata": {},
   "outputs": [],
   "source": [
    "def part5d_2():\n",
    "    n = 1\n",
    "    win = 0\n",
    "    lose = 0\n",
    "    tie = 0\n",
    "    policy = Policy()\n",
    "    env = Environment()\n",
    "    ep = 50000\n",
    "    load_weights(policy, ep)\n",
    "\n",
    "\n",
    "    while n <= 5:\n",
    "        print('Playing game number %d'%n)\n",
    "        n += 1\n",
    "        state = env.reset()\n",
    "        done = False\n",
    "        while not done:\n",
    "            action, log_prob = select_action(policy, state)\n",
    "            state, status, done = env.play_against_random(action)\n",
    "            env.render()\n",
    "        if(status == 'win'):\n",
    "            win += 1\n",
    "        elif(status == 'lose'):\n",
    "            lose += 1\n",
    "        else:\n",
    "            tie += 1\n",
    "        print('The agent %ss \\n'%status)\n"
   ]
  },
  {
   "cell_type": "code",
   "execution_count": 71,
   "metadata": {},
   "outputs": [
    {
     "name": "stdout",
     "output_type": "stream",
     "text": [
      "Playing game number 1\n",
      "o..\n",
      "...\n",
      "x..\n",
      "====\n",
      "o..\n",
      "ox.\n",
      "x..\n",
      "====\n",
      "o.x\n",
      "ox.\n",
      "x..\n",
      "====\n",
      "The agent wins \n",
      "\n",
      "Playing game number 2\n",
      "...\n",
      "..o\n",
      "x..\n",
      "====\n",
      "..x\n",
      "..o\n",
      "x.o\n",
      "====\n",
      "..x\n",
      ".xo\n",
      "x.o\n",
      "====\n",
      "The agent wins \n",
      "\n",
      "Playing game number 3\n",
      "...\n",
      "..o\n",
      "x..\n",
      "====\n",
      "o.x\n",
      "..o\n",
      "x..\n",
      "====\n",
      "o.x\n",
      ".xo\n",
      "x..\n",
      "====\n",
      "The agent wins \n",
      "\n",
      "Playing game number 4\n",
      "..o\n",
      "...\n",
      "x..\n",
      "====\n",
      "..o\n",
      ".xo\n",
      "x..\n",
      "====\n",
      "..o\n",
      ".xo\n",
      "xox\n",
      "====\n",
      "x.o\n",
      ".xo\n",
      "xox\n",
      "====\n",
      "The agent wins \n",
      "\n",
      "Playing game number 5\n",
      "...\n",
      "o..\n",
      "x..\n",
      "====\n",
      "..o\n",
      "o.x\n",
      "x..\n",
      "====\n",
      "..o\n",
      "oxx\n",
      "x.o\n",
      "====\n",
      "xoo\n",
      "oxx\n",
      "x.o\n",
      "====\n",
      "xoo\n",
      "oxx\n",
      "xxo\n",
      "====\n",
      "The agent ties \n",
      "\n"
     ]
    },
    {
     "name": "stderr",
     "output_type": "stream",
     "text": [
      "/Users/yingxue_wang/anaconda3/lib/python3.6/site-packages/ipykernel_launcher.py:13: UserWarning: Implicit dimension choice for softmax has been deprecated. Change the call to include dim=X as an argument.\n",
      "  del sys.path[0]\n"
     ]
    }
   ],
   "source": [
    "part5d_2()"
   ]
  },
  {
   "cell_type": "markdown",
   "metadata": {},
   "source": [
    "# Part 6"
   ]
  },
  {
   "cell_type": "markdown",
   "metadata": {},
   "source": [
    "Use the model checkpoints saved throughout training to explore how the win / lose / tie rate changed throughout training. In your report, include graphs that illustrate this, as well as your conclusions in English."
   ]
  },
  {
   "cell_type": "code",
   "execution_count": 72,
   "metadata": {},
   "outputs": [],
   "source": [
    "def get_results(policy, ep):\n",
    "    N = 100\n",
    "    win = 0.0\n",
    "    lose = 0.0\n",
    "    tie = 0.0\n",
    "   \n",
    "    for i in range(N):\n",
    "        state = env.reset()\n",
    "        done = False\n",
    "        while not done:\n",
    "            action, log_prob = select_action(policy, state)\n",
    "            state, status, done = env.play_against_random(action)\n",
    "        if(status == 'win'):\n",
    "            win += 1\n",
    "        elif(status == 'lose'):\n",
    "            lose += 1\n",
    "        else:\n",
    "            tie += 1\n",
    "\n",
    "    return win/100, lose/100, tie/100\n",
    "\n"
   ]
  },
  {
   "cell_type": "code",
   "execution_count": 73,
   "metadata": {},
   "outputs": [
    {
     "name": "stderr",
     "output_type": "stream",
     "text": [
      "/Users/yingxue_wang/anaconda3/lib/python3.6/site-packages/ipykernel_launcher.py:13: UserWarning: Implicit dimension choice for softmax has been deprecated. Change the call to include dim=X as an argument.\n",
      "  del sys.path[0]\n"
     ]
    },
    {
     "data": {
      "image/png": "[encoded data removed]",
      "text/plain": [
       "<matplotlib.figure.Figure at 0x1b09f60b8>"
      ]
     },
     "metadata": {},
     "output_type": "display_data"
    }
   ],
   "source": [
    "policy = Policy()\n",
    "env = Environment()\n",
    "max_ep = 50001\n",
    "win_results = []\n",
    "lose_results = []\n",
    "tie_results = []\n",
    "\n",
    "episodes = range(1000,max_ep,1000)\n",
    "\n",
    "for ep in episodes:\n",
    "    load_weights(policy, ep)\n",
    "    win, lose, tie = get_results(policy, ep)\n",
    "    win_results.append(win)\n",
    "    lose_results.append(lose)\n",
    "    tie_results.append(tie)\n",
    "\n",
    "# Plotting the performance over training\n",
    "plt.plot(episodes, win_results, episodes, lose_results, episodes, tie_results)\n",
    "plt.legend(['Win', 'Lose','Tie'])\n",
    "plt.xlabel('Episode')\n",
    "plt.ylabel('Numer')\n",
    "plt.savefig(\"./pics/results.png\")\n",
    "plt.show()"
   ]
  },
  {
   "cell_type": "markdown",
   "metadata": {},
   "source": [
    "# Part 7"
   ]
  },
  {
   "cell_type": "markdown",
   "metadata": {},
   "source": [
    "For your final trained model, show π, the learned distribution over the first move. (You may use the first_move_distr function provided) What has your model learned? Does the distribution make sense?\n",
    "\n",
    "Explore how the distribution over the first move has changed throughout training."
   ]
  },
  {
   "cell_type": "code",
   "execution_count": 74,
   "metadata": {},
   "outputs": [
    {
     "name": "stderr",
     "output_type": "stream",
     "text": [
      "/Users/yingxue_wang/anaconda3/lib/python3.6/site-packages/ipykernel_launcher.py:13: UserWarning: Implicit dimension choice for softmax has been deprecated. Change the call to include dim=X as an argument.\n",
      "  del sys.path[0]\n"
     ]
    },
    {
     "name": "stdout",
     "output_type": "stream",
     "text": [
      "(51, 9)\n",
      "(9, 50)\n"
     ]
    },
    {
     "data": {
      "image/png": "[encoded data removed]",
      "text/plain": [
       "<matplotlib.figure.Figure at 0x1b0b614a8>"
      ]
     },
     "metadata": {},
     "output_type": "display_data"
    }
   ],
   "source": [
    "max_ep = 50001\n",
    "episodes = range(1000,max_ep,1000)\n",
    "\n",
    "results = np.empty((1,9))\n",
    "for ep in episodes:\n",
    "    load_weights(policy, ep)\n",
    "    arr = np.asarray(first_move_distr(policy, env))\n",
    "    results = np.vstack((results, arr))\n",
    "\n",
    "print(results.shape)\n",
    "results = results[:-1].T\n",
    "print(results.shape)\n",
    "\n",
    "\n",
    "# Ploting \n",
    "plt.plot(episodes, results[0], episodes, results[1], episodes, results[2],episodes, results[3],episodes, results[4],episodes, results[5],episodes, results[6],episodes, results[7],episodes, results[8])\n",
    "plt.legend(['(1,1)', '(1,2)','(1,3)','(2,1)', '(2,2)','(2,3)','(3,1)', '(3,2)','(3,3)'])\n",
    "plt.xlabel('Episode')\n",
    "plt.ylabel('location')\n",
    "plt.savefig(\"./pics/distribution.png\")\n",
    "plt.show()\n"
   ]
  }
 ],
 "metadata": {
  "kernelspec": {
   "display_name": "Python 3",
   "language": "python",
   "name": "python3"
  },
  "language_info": {
   "codemirror_mode": {
    "name": "ipython",
    "version": 3
   },
   "file_extension": ".py",
   "mimetype": "text/x-python",
   "name": "python",
   "nbconvert_exporter": "python",
   "pygments_lexer": "ipython3",
   "version": "3.6.4"
  }
 },
 "nbformat": 4,
 "nbformat_minor": 2
}
